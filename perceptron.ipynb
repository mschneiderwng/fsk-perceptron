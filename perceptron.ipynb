{
 "cells": [
  {
   "cell_type": "code",
   "execution_count": 1,
   "metadata": {},
   "outputs": [],
   "source": [
    "\n",
    "import numpy as np\n",
    "from matplotlib import pyplot as plt\n",
    "%matplotlib inline\n",
    "\n",
    "# helper function to plot\n",
    "def perceptron_plot(w):\n",
    "  plt.figure()\n",
    "  plt.scatter([x[0] for x in A],[x[1] for x in A])\n",
    "  plt.scatter([x[0] for x in B],[x[1] for x in B])\n",
    "\n",
    "  t=np.array([-2.0,2.0])\n",
    "  if np.linalg.norm(w) <= 1e-15:\n",
    "    plt.plot([0,0],[-1,2],'k')\n",
    "  else:\n",
    "    plt.plot(t,-w[0]*t/w[1],'k')\n",
    "  plt.title('w=({:.2f},{:.2f})'.format(w[0],w[1]))"
   ]
  },
  {
   "cell_type": "code",
   "execution_count": 2,
   "metadata": {},
   "outputs": [
    {
     "data": {
      "image/png": "[encoded data removed]",
      "text/plain": [
       "<Figure size 432x288 with 1 Axes>"
      ]
     },
     "metadata": {
      "needs_background": "light"
     },
     "output_type": "display_data"
    }
   ],
   "source": [
    "# Güteklasse Trainingsdaten\n",
    "A = [[0,1.8],  [2,0.7]]\n",
    "B = [[0.2,-1], [-1.2,1.4]]\n",
    "\n",
    "# perceptron learning algorithm\n",
    "def perceptron_learn(A, B, epochs=20):\n",
    "    w = [0.1,.1]\n",
    "    for _ in range(epochs):\n",
    "      for x in A:\n",
    "        if x[0]*w[0]+x[1]*w[1] <= 0:\n",
    "          w[0] = 1 # <-- Change this\n",
    "          w[1] = 1 # <-- Change this\n",
    "      for x in B:\n",
    "        if x[0]*w[0]+x[1]*w[1] > 0:\n",
    "          w[0] = 1 # <-- Change this\n",
    "          w[1] = 1 # <-- Change this\n",
    "\n",
    "    return w\n",
    "\n",
    "w = perceptron_learn(A,B,epochs=0)\n",
    "perceptron_plot(w)"
   ]
  }
 ],
 "metadata": {
  "interpreter": {
   "hash": "dc66e4307222f484e9e51e3e58e9832a25af17cc4b70bcad5e72d26d360bcade"
  },
  "kernelspec": {
   "display_name": "Python 3.9.12 64-bit",
   "language": "python",
   "name": "python3"
  },
  "language_info": {
   "codemirror_mode": {
    "name": "ipython",
    "version": 3
   },
   "file_extension": ".py",
   "mimetype": "text/x-python",
   "name": "python",
   "nbconvert_exporter": "python",
   "pygments_lexer": "ipython3",
   "version": "3.9.12"
  },
  "orig_nbformat": 4
 },
 "nbformat": 4,
 "nbformat_minor": 2
}
